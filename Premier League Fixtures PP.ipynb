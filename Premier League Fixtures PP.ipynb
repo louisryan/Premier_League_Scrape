{
 "metadata": {
  "name": "",
  "signature": "sha256:6de29636457d1dd579fcdc5c13b05065de3a0a45518c120fc62c4b66d607e800"
 },
 "nbformat": 3,
 "nbformat_minor": 0,
 "worksheets": [
  {
   "cells": [
    {
     "cell_type": "heading",
     "level": 1,
     "metadata": {},
     "source": [
      "Premier League Fixtures"
     ]
    },
    {
     "cell_type": "markdown",
     "metadata": {},
     "source": [
      "<img src=\"./styling/Format.png\">"
     ]
    },
    {
     "cell_type": "markdown",
     "metadata": {},
     "source": [
      " "
     ]
    },
    {
     "cell_type": "markdown",
     "metadata": {},
     "source": [
      "The aim of this python script is to scrape the BBC sports fixtures for all leagues known to man. The site is formatted as displayed above with a javascript dropdown element allowing the site user to select the league he/she is interested, updating the page to reflect the new fixtures"
     ]
    },
    {
     "cell_type": "heading",
     "level": 3,
     "metadata": {},
     "source": [
      "League ID's"
     ]
    },
    {
     "cell_type": "markdown",
     "metadata": {},
     "source": [
      "<img src='./styling/url.png'>"
     ]
    },
    {
     "cell_type": "markdown",
     "metadata": {},
     "source": [
      "The BBC site is structured in such a way that each league has an associated page and each page is defined by a unique competition ID. We're going to use this list of competition ID's to loop through each page, and for each page, parse the data and insert into a MySQL database."
     ]
    },
    {
     "cell_type": "code",
     "collapsed": false,
     "input": [
      "from bs4 import BeautifulSoup\n",
      "from urllib2 import urlopen\n",
      "import pprint as pp\n",
      "import html5lib \n",
      "\n",
      "def make_soup(url):\n",
      "    html = urlopen(url).read()\n",
      "    return BeautifulSoup(html, 'html.parser')\n",
      "\n",
      "def formatDate(date):\n",
      "    return parser.parse(date)"
     ],
     "language": "python",
     "metadata": {},
     "outputs": [],
     "prompt_number": 230
    },
    {
     "cell_type": "markdown",
     "metadata": {},
     "source": [
      "This method takes a base url and extracts all of the competition ids from the page. For each id, it appends it onto the base url and inserts it into a list. The returned value is full urls for each league."
     ]
    },
    {
     "cell_type": "code",
     "collapsed": false,
     "input": [
      "def get_competition_links(url):\n",
      "    comp_ids = []\n",
      "    soup = make_soup(url)\n",
      "    for option in soup.findAll('option'):\n",
      "        if 'competition' in option['value']:\n",
      "            complete_url = url + option['value'].split('-')[1]\n",
      "            comp_ids.append(complete_url)\n",
      "    return comp_ids"
     ],
     "language": "python",
     "metadata": {},
     "outputs": [],
     "prompt_number": 231
    },
    {
     "cell_type": "heading",
     "level": 3,
     "metadata": {},
     "source": [
      "Scrape Fixtures"
     ]
    },
    {
     "cell_type": "markdown",
     "metadata": {},
     "source": [
      "This section of code parses a HTML page to extract the following information:\n",
      "\n",
      "1. Date/Time\n",
      "2. League\n",
      "3. Teams \n",
      "\n",
      "The date is in the format 'Friday 24th October 2014' which will require some work to convert to database compliant yyyy-mm-dd hh:mm:ss."
     ]
    },
    {
     "cell_type": "code",
     "collapsed": false,
     "input": [
      "from dateutil import parser\n",
      "\n",
      "def parse_page(url):\n",
      "\n",
      "    soup = make_soup(url)\n",
      "    \n",
      "    # Check if it's a non-dated event like the world cup\n",
      "    if soup.find('div', 'no-data'):\n",
      "        pass\n",
      "    \n",
      "    for frame in soup.findAll('h2', {'class':'table-header'}):\n",
      "        contents = frame.findNext('table', 'table-stats')\n",
      "        league_name = contents.find('th', {'scope':'rowgroup'}).getText().strip()\n",
      "        \n",
      "        for td in contents.findAll('tr', 'preview'):\n",
      "            \n",
      "            home = td.find('span', 'team-home teams').getText().strip() \n",
      "            away = td.find('span', 'team-away teams').getText().strip()\n",
      "            teams = home + ' v ' + away\n",
      "            \n",
      "            # Some matches may not have scheduled times yet\n",
      "            try:\n",
      "                time = td.find('td', 'kickoff').getText().strip()\n",
      "            except:\n",
      "                pass\n",
      "            #Insert these records into the MySQL DataBase \n",
      "            insert_fixture([league_name, teams, formatDate(frame.getText() + time)])\n",
      "\n",
      "#parse_page('http://www.bbc.com/sport/football/fixtures?filter=competition-119001880&competitionFilter=118996114')"
     ],
     "language": "python",
     "metadata": {},
     "outputs": [],
     "prompt_number": 249
    },
    {
     "cell_type": "heading",
     "level": 3,
     "metadata": {},
     "source": [
      "DB Persistence"
     ]
    },
    {
     "cell_type": "markdown",
     "metadata": {},
     "source": [
      "This method takes a fixture record and inserts it into the DB as a single row"
     ]
    },
    {
     "cell_type": "code",
     "collapsed": false,
     "input": [
      "import mysql.connector as sql\n",
      "\n",
      "def insert_fixture(fixture):  \n",
      "    \n",
      "    db_params = {'user' : \"root\",'password' : \"\",'host' : \"localhost\",'port' : 3306,'database' : \"Fixtures\",'charset' : 'utf8','collation' : 'utf8_general_ci','buffered' : True}\n",
      "    conn = sql.connect(**db_params)\n",
      "    cursor = conn.cursor()\n",
      "    query = \"INSERT INTO fixtures (league, teams, date_time) VALUES (%s, %s, %s)\"\n",
      "    \n",
      "    try:\n",
      "        cursor.execute(query, fixture)\n",
      "        conn.commit()\n",
      "    except sql.Error as err:\n",
      "        #print err\n",
      "        pass\n",
      "    cursor.close()"
     ],
     "language": "python",
     "metadata": {},
     "outputs": [],
     "prompt_number": 250
    },
    {
     "cell_type": "markdown",
     "metadata": {},
     "source": [
      "This snippet of code executes the program - It first gets the list of urls we're going to scrape. For each link, it parses the data and inserts it into a DB."
     ]
    },
    {
     "cell_type": "code",
     "collapsed": false,
     "input": [
      "def main():\n",
      "    \n",
      "    BASE_URL = 'http://www.bbc.com/sport/football/fixtures?filter=competition-'\n",
      "    \n",
      "    # First get the urls \n",
      "    comp_links = get_competition_links(BASE_URL)\n",
      "\n",
      "    # For each url, parse and persist\n",
      "    for link in comp_links:\n",
      "        print(link)\n",
      "        parse_page(link)\n",
      "\n",
      "main()"
     ],
     "language": "python",
     "metadata": {},
     "outputs": []
    },
    {
     "cell_type": "code",
     "collapsed": false,
     "input": [
      "def css_styling():\n",
      "    from IPython.display import HTML\n",
      "    styles = open('./styling/custom.css', 'r').read()\n",
      "    return HTML(styles) \n",
      "\n",
      "css_styling()"
     ],
     "language": "python",
     "metadata": {},
     "outputs": [
      {
       "html": [
        "<style>\r\n",
        "    @font-face {\r\n",
        "        font-family: \"Computer Modern\";\r\n",
        "        src: url('http://9dbb143991406a7c655e-aa5fcb0a5a4ec34cff238a2d56ca4144.r56.cf5.rackcdn.com/cmunss.otf');\r\n",
        "    }\r\n",
        "    @font-face {\r\n",
        "        font-family: \"Computer Modern\";\r\n",
        "        font-weight: bold;\r\n",
        "        src: url('http://9dbb143991406a7c655e-aa5fcb0a5a4ec34cff238a2d56ca4144.r56.cf5.rackcdn.com/cmunsx.otf');\r\n",
        "    }\r\n",
        "    @font-face {\r\n",
        "        font-family: \"Computer Modern\";\r\n",
        "        font-style: oblique;\r\n",
        "        src: url('http://9dbb143991406a7c655e-aa5fcb0a5a4ec34cff238a2d56ca4144.r56.cf5.rackcdn.com/cmunsi.otf');\r\n",
        "    }\r\n",
        "    @font-face {\r\n",
        "        font-family: \"Computer Modern\";\r\n",
        "        font-weight: bold;\r\n",
        "        font-style: oblique;\r\n",
        "        src: url('http://9dbb143991406a7c655e-aa5fcb0a5a4ec34cff238a2d56ca4144.r56.cf5.rackcdn.com/cmunso.otf');\r\n",
        "    }\r\n",
        "    div.cell{\r\n",
        "        width:900px;\r\n",
        "        margin-left:16% !important;\r\n",
        "    }\r\n",
        "    h1 {\r\n",
        "        font-family: Helvetica, serif;\r\n",
        "        text-align: center;\r\n",
        "    }\r\n",
        "    h4{\r\n",
        "        margin-top:12px;\r\n",
        "        margin-bottom: 3px;\r\n",
        "       }\r\n",
        "    div.text_cell_render{\r\n",
        "        font-family: Computer Modern, \"Helvetica Neue\", Arial, Helvetica, Geneva, sans-serif;\r\n",
        "        line-height: 115%;\r\n",
        "        font-size: 120%;\r\n",
        "        width:900px;\r\n",
        "        margin-left:auto;\r\n",
        "        margin-right:auto;\r\n",
        "    }\r\n",
        "    .CodeMirror{\r\n",
        "            font-family: \"Source Code Pro\", source-code-pro,Consolas, monospace;\r\n",
        "    }\r\n",
        "    .prompt{\r\n",
        "        display: None;\r\n",
        "    }\r\n",
        "    .text_cell_render h5 {\r\n",
        "        font-weight: 300;\r\n",
        "        font-size: 22pt;\r\n",
        "        color: #4057A1;\r\n",
        "        font-style: italic;\r\n",
        "        margin-bottom: .5em;\r\n",
        "        margin-top: 0.5em;\r\n",
        "        display: block;\r\n",
        "    }\r\n",
        "\r\n",
        "\r\n",
        "    img {\r\n",
        "        display: block;\r\n",
        "        margin-left: auto;\r\n",
        "        margin-right: auto \r\n",
        "    }\r\n",
        "    \r\n",
        "\r\n",
        "    .warning{\r\n",
        "        color: rgb( 240, 20, 20 )\r\n",
        "        }  \r\n",
        "</style>\r\n",
        "<script>\r\n",
        "    MathJax.Hub.Config({\r\n",
        "                        TeX: {\r\n",
        "                           extensions: [\"AMSmath.js\"]\r\n",
        "                           },\r\n",
        "                tex2jax: {\r\n",
        "                    inlineMath: [ ['$','$'], [\"\\\\(\",\"\\\\)\"] ],\r\n",
        "                    displayMath: [ ['$$','$$'], [\"\\\\[\",\"\\\\]\"] ]\r\n",
        "                },\r\n",
        "                displayAlign: 'center', // Change this to 'center' to center equations.\r\n",
        "                \"HTML-CSS\": {\r\n",
        "                    styles: {'.MathJax_Display': {\"margin\": 4}}\r\n",
        "                }\r\n",
        "        });\r\n",
        "</script>"
       ],
       "metadata": {},
       "output_type": "pyout",
       "prompt_number": 253,
       "text": [
        "<IPython.core.display.HTML at 0x110ab1290>"
       ]
      }
     ],
     "prompt_number": 253
    },
    {
     "cell_type": "code",
     "collapsed": false,
     "input": [],
     "language": "python",
     "metadata": {},
     "outputs": []
    }
   ],
   "metadata": {}
  }
 ]
}